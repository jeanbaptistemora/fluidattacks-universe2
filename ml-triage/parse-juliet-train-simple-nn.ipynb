{
 "cells": [
  {
   "cell_type": "code",
   "execution_count": 1,
   "metadata": {},
   "outputs": [],
   "source": [
    "ONEDIR = '/home/r/Downloads/Java/src/testcases/CWE760_Predictable_Salt_One_Way_Hash/'"
   ]
  },
  {
   "cell_type": "code",
   "execution_count": 2,
   "metadata": {
    "scrolled": true
   },
   "outputs": [],
   "source": [
    "import os\n",
    "\n",
    "def read_testcases_from_dir(directory):\n",
    "    testcases = []\n",
    "    for name in os.listdir(directory):\n",
    "        if name.startswith('CWE'):\n",
    "            full = os.path.join(directory, name)\n",
    "            with open(full, 'r') as testcase:\n",
    "                testcases.append(testcase.read())\n",
    "    return testcases"
   ]
  },
  {
   "cell_type": "code",
   "execution_count": 3,
   "metadata": {},
   "outputs": [],
   "source": [
    "testcases = read_testcases_from_dir(ONEDIR)"
   ]
  },
  {
   "cell_type": "code",
   "execution_count": 4,
   "metadata": {},
   "outputs": [
    {
     "name": "stdout",
     "output_type": "stream",
     "text": [
      "/* TEMPLATE GENERATED TESTCASE FILE\n",
      "Filename: CWE760_Predictable_Salt_One_Way_Hash__basic_06.java\n",
      "Label Definition File: CWE760_Predictable_Salt_One_Way_Hash__basic.label.xml\n",
      "Template File: point-flaw-06.tmpl.java\n",
      "*/\n",
      "/*\n",
      "* @description\n",
      "* CWE: 760 Use of one-way hash with a predictable salt\n",
      "* Sinks:\n",
      "*    GoodSink: SHA512 with a sufficiently random salt\n",
      "*    BadSink : SHA512 with a predictable salt\n",
      "* Flow Variant: 06 Control flow: if(PRIVATE_STATIC_FINAL_FIVE==5) and if(PRIVATE_STATIC_FINAL_FIVE!=5)\n",
      "*\n",
      "* */\n",
      "\n",
      "package testcases.CWE760_Predictable_Salt_One_Way_Hash;\n",
      "\n",
      "import testcasesupport.*;\n",
      "\n",
      "import java.security.MessageDigest;\n",
      "import java.security.SecureRandom;\n",
      "import java.util.Random;\n",
      "\n",
      "public class CWE760_Predictable_Salt_One_Way_Hash__basic_06 extends AbstractTestCase\n",
      "{\n",
      "    /* The variable below is declared \"final\", so a tool should be able\n",
      "     * to identify that reads of this will always give its initialized\n",
      "     * value.\n",
      "     */\n",
      "    private static final int PRIVATE_STATIC_FINAL_FIVE = 5;\n",
      "\n",
      "    public void bad() throws Throwable\n",
      "    {\n",
      "        if (PRIVATE_STATIC_FINAL_FIVE == 5)\n",
      "        {\n",
      "            Random random = new Random();\n",
      "            MessageDigest hash = MessageDigest.getInstance(\"SHA-512\");\n",
      "            /* FLAW: SHA512 with a predictable salt */\n",
      "            hash.update((Integer.toString(random.nextInt())).getBytes(\"UTF-8\"));\n",
      "            byte[] hashValue = hash.digest(\"hash me\".getBytes(\"UTF-8\"));\n",
      "            IO.writeLine(IO.toHex(hashValue));\n",
      "        }\n",
      "    }\n",
      "\n",
      "    /* good1() changes PRIVATE_STATIC_FINAL_FIVE==5 to PRIVATE_STATIC_FINAL_FIVE!=5 */\n",
      "    private void good1() throws Throwable\n",
      "    {\n",
      "        if (PRIVATE_STATIC_FINAL_FIVE != 5)\n",
      "        {\n",
      "            /* INCIDENTAL: CWE 561 Dead Code, the code below will never run */\n",
      "            IO.writeLine(\"Benign, fixed string\");\n",
      "        }\n",
      "        else\n",
      "        {\n",
      "\n",
      "            SecureRandom secureRandom = new SecureRandom();\n",
      "\n",
      "            MessageDigest hash = MessageDigest.getInstance(\"SHA-512\");\n",
      "            /* FIX: Use a sufficiently random salt */\n",
      "            SecureRandom prng = SecureRandom.getInstance(\"SHA1PRNG\");\n",
      "            hash.update(prng.generateSeed(32));\n",
      "            byte[] hashValue = hash.digest(\"hash me\".getBytes(\"UTF-8\"));\n",
      "\n",
      "            IO.writeLine(IO.toHex(hashValue));\n",
      "\n",
      "        }\n",
      "    }\n",
      "\n",
      "    /* good2() reverses the bodies in the if statement */\n",
      "    private void good2() throws Throwable\n",
      "    {\n",
      "        if (PRIVATE_STATIC_FINAL_FIVE == 5)\n",
      "        {\n",
      "            SecureRandom secureRandom = new SecureRandom();\n",
      "            MessageDigest hash = MessageDigest.getInstance(\"SHA-512\");\n",
      "            /* FIX: Use a sufficiently random salt */\n",
      "            SecureRandom prng = SecureRandom.getInstance(\"SHA1PRNG\");\n",
      "            hash.update(prng.generateSeed(32));\n",
      "            byte[] hashValue = hash.digest(\"hash me\".getBytes(\"UTF-8\"));\n",
      "            IO.writeLine(IO.toHex(hashValue));\n",
      "        }\n",
      "    }\n",
      "\n",
      "    public void good() throws Throwable\n",
      "    {\n",
      "        good1();\n",
      "        good2();\n",
      "    }\n",
      "\n",
      "    /* Below is the main(). It is only used when building this testcase on\n",
      "     * its own for testing or for building a binary to use in testing binary\n",
      "     * analysis tools. It is not used when compiling all the testcases as one\n",
      "     * application, which is how source code analysis tools are tested.\n",
      "     */\n",
      "    public static void main(String[] args) throws ClassNotFoundException,\n",
      "           InstantiationException, IllegalAccessException\n",
      "    {\n",
      "        mainFromParent(args);\n",
      "    }\n",
      "}\n",
      "\n"
     ]
    }
   ],
   "source": [
    "print(testcases[0])"
   ]
  },
  {
   "cell_type": "code",
   "execution_count": 5,
   "metadata": {},
   "outputs": [],
   "source": [
    "part = '''public class CWE760_Predictable_Salt_One_Way_Hash__basic_16 extends AbstractTestCase\n",
    "{\n",
    "    public void bad() throws Throwable\n",
    "    {\n",
    "        while(true)\n",
    "        {\n",
    "            Random random = new Random();\n",
    "            MessageDigest hash = MessageDigest.getInstance(\"SHA-512\");\n",
    "            /* FLAW: SHA512 with a predictable salt */\n",
    "            hash.update((Integer.toString(random.nextInt())).getBytes(\"UTF-8\"));\n",
    "            byte[] hashValue = hash.digest(\"hash me\".getBytes(\"UTF-8\"));\n",
    "            IO.writeLine(IO.toHex(hashValue));\n",
    "            break;\n",
    "        }\n",
    "    }\n",
    "\n",
    "    /* good1() change the conditions on the while statements */\n",
    "    private void good1() throws Throwable'''"
   ]
  },
  {
   "cell_type": "code",
   "execution_count": 6,
   "metadata": {},
   "outputs": [
    {
     "data": {
      "text/plain": [
       "'public class CWE760_Predictable_Salt_One_Way_Hash__basic_16 extends AbstractTestCase\\n{\\n    public void bad() throws Throwable\\n    {\\n        while(true)\\n        {\\n            Random random = new Random();\\n            MessageDigest hash = MessageDigest.getInstance(\"SHA-512\");\\n            /* FLAW: SHA512 with a predictable salt */\\n            hash.update((Integer.toString(random.nextInt())).getBytes(\"UTF-8\"));\\n            byte[] hashValue = hash.digest(\"hash me\".getBytes(\"UTF-8\"));\\n            IO.writeLine(IO.toHex(hashValue));\\n            break;\\n        }\\n    }\\n\\n    /* good1() change the conditions on the while statements */\\n    private void good1() throws Throwable'"
      ]
     },
     "execution_count": 6,
     "metadata": {},
     "output_type": "execute_result"
    }
   ],
   "source": [
    "part"
   ]
  },
  {
   "cell_type": "code",
   "execution_count": 7,
   "metadata": {},
   "outputs": [
    {
     "name": "stdout",
     "output_type": "stream",
     "text": [
      "e void good1() throws Throwable\n",
      "    {\n",
      "        if (PRIVATE_STATIC_FINAL_FIVE != 5)\n",
      "        {\n",
      "            /* INCIDENTAL: CWE 561 Dead Code, the code below will never run */\n",
      "            IO.writeLine(\"Benign, fixed string\");\n",
      "        }\n"
     ]
    }
   ],
   "source": [
    "import re\n",
    "# re not enough\n",
    "print(re.findall('([private|public]\\ [^class].*?\\{.*?\\})', testcases[0], re.MULTILINE | re.DOTALL)[1])"
   ]
  },
  {
   "cell_type": "code",
   "execution_count": 8,
   "metadata": {},
   "outputs": [],
   "source": [
    "import javalang\n",
    "\n",
    "tree = javalang.parse.parse(\"package javalang.brewtab.com; class Test {}\")"
   ]
  },
  {
   "cell_type": "code",
   "execution_count": 9,
   "metadata": {},
   "outputs": [],
   "source": [
    "tree = javalang.parse.parse(testcases[0])"
   ]
  },
  {
   "cell_type": "code",
   "execution_count": null,
   "metadata": {
    "scrolled": true
   },
   "outputs": [],
   "source": [
    "#overkill and language-specific\n",
    "#for path, node in tree:\n",
    "#    print(path, node)"
   ]
  },
  {
   "cell_type": "code",
   "execution_count": 10,
   "metadata": {},
   "outputs": [],
   "source": [
    "one = testcases[0]"
   ]
  },
  {
   "cell_type": "code",
   "execution_count": 11,
   "metadata": {
    "scrolled": true
   },
   "outputs": [
    {
     "name": "stdout",
     "output_type": "stream",
     "text": [
      "/* TEMPLATE GENERATED TESTCASE FILE\n",
      "Filename: CWE760_Predictable_Salt_One_Way_Hash__basic_06.java\n",
      "Label Definition File: CWE760_Predictable_Salt_One_Way_Hash__basic.label.xml\n",
      "Template File: point-flaw-06.tmpl.java\n",
      "*/\n",
      "/*\n",
      "* @description\n",
      "* CWE: 760 Use of one-way hash with a predictable salt\n",
      "* Sinks:\n",
      "*    GoodSink: SHA512 with a sufficiently random salt\n",
      "*    BadSink : SHA512 with a predictable salt\n",
      "* Flow Variant: 06 Control flow: if(PRIVATE_STATIC_FINAL_FIVE==5) and if(PRIVATE_STATIC_FINAL_FIVE!=5)\n",
      "*\n",
      "* */\n",
      "\n",
      "package testcases.CWE760_Predictable_Salt_One_Way_Hash;\n",
      "\n",
      "import testcasesupport.*;\n",
      "\n",
      "import java.security.MessageDigest;\n",
      "import java.security.SecureRandom;\n",
      "import java.util.Random;\n",
      "\n",
      "public class CWE760_Predictable_Salt_One_Way_Hash__basic_06 extends AbstractTestCase\n",
      "{\n",
      "    /* The variable below is declared \"final\", so a tool should be able\n",
      "     * to identify that reads of this will always give its initialized\n",
      "     * value.\n",
      "     */\n",
      "    private static final int PRIVATE_STATIC_FINAL_FIVE = 5;\n",
      "\n",
      "    public void bad() throws Throwable\n",
      "    {\n",
      "        if (PRIVATE_STATIC_FINAL_FIVE == 5)\n",
      "        {\n",
      "            Random random = new Random();\n",
      "            MessageDigest hash = MessageDigest.getInstance(\"SHA-512\");\n",
      "            /* FLAW: SHA512 with a predictable salt */\n",
      "            hash.update((Integer.toString(random.nextInt())).getBytes(\"UTF-8\"));\n",
      "            byte[] hashValue = hash.digest(\"hash me\".getBytes(\"UTF-8\"));\n",
      "            IO.writeLine(IO.toHex(hashValue));\n",
      "        }\n",
      "    }\n",
      "\n",
      "    /* good1() changes PRIVATE_STATIC_FINAL_FIVE==5 to PRIVATE_STATIC_FINAL_FIVE!=5 */\n",
      "    private void good1() throws Throwable\n",
      "    {\n",
      "        if (PRIVATE_STATIC_FINAL_FIVE != 5)\n",
      "        {\n",
      "            /* INCIDENTAL: CWE 561 Dead Code, the code below will never run */\n",
      "            IO.writeLine(\"Benign, fixed string\");\n",
      "        }\n",
      "        else\n",
      "        {\n",
      "\n",
      "            SecureRandom secureRandom = new SecureRandom();\n",
      "\n",
      "            MessageDigest hash = MessageDigest.getInstance(\"SHA-512\");\n",
      "            /* FIX: Use a sufficiently random salt */\n",
      "            SecureRandom prng = SecureRandom.getInstance(\"SHA1PRNG\");\n",
      "            hash.update(prng.generateSeed(32));\n",
      "            byte[] hashValue = hash.digest(\"hash me\".getBytes(\"UTF-8\"));\n",
      "\n",
      "            IO.writeLine(IO.toHex(hashValue));\n",
      "\n",
      "        }\n",
      "    }\n",
      "\n",
      "    /* good2() reverses the bodies in the if statement */\n",
      "    private void good2() throws Throwable\n",
      "    {\n",
      "        if (PRIVATE_STATIC_FINAL_FIVE == 5)\n",
      "        {\n",
      "            SecureRandom secureRandom = new SecureRandom();\n",
      "            MessageDigest hash = MessageDigest.getInstance(\"SHA-512\");\n",
      "            /* FIX: Use a sufficiently random salt */\n",
      "            SecureRandom prng = SecureRandom.getInstance(\"SHA1PRNG\");\n",
      "            hash.update(prng.generateSeed(32));\n",
      "            byte[] hashValue = hash.digest(\"hash me\".getBytes(\"UTF-8\"));\n",
      "            IO.writeLine(IO.toHex(hashValue));\n",
      "        }\n",
      "    }\n",
      "\n",
      "    public void good() throws Throwable\n",
      "    {\n",
      "        good1();\n",
      "        good2();\n",
      "    }\n",
      "\n",
      "    /* Below is the main(). It is only used when building this testcase on\n",
      "     * its own for testing or for building a binary to use in testing binary\n",
      "     * analysis tools. It is not used when compiling all the testcases as one\n",
      "     * application, which is how source code analysis tools are tested.\n",
      "     */\n",
      "    public static void main(String[] args) throws ClassNotFoundException,\n",
      "           InstantiationException, IllegalAccessException\n",
      "    {\n",
      "        mainFromParent(args);\n",
      "    }\n",
      "}\n",
      "\n"
     ]
    }
   ],
   "source": [
    "print(one)"
   ]
  },
  {
   "cell_type": "code",
   "execution_count": 12,
   "metadata": {},
   "outputs": [],
   "source": [
    "from pyparsing import *"
   ]
  },
  {
   "cell_type": "code",
   "execution_count": 13,
   "metadata": {},
   "outputs": [],
   "source": [
    "SIGNATURE = (oneOf('private public')\n",
    "             + NotAny('class') \n",
    "             + Regex('.*').setResultsName('actual_signature')\n",
    "             + '{'# + Regex(r'.*', flags=re.M|re.DOTALL) + '}' + LineEnd()\n",
    "            )  "
   ]
  },
  {
   "cell_type": "code",
   "execution_count": 14,
   "metadata": {},
   "outputs": [],
   "source": [
    "def rem_comm(code):\n",
    "    return re.sub('\\/\\*.*\\*\\/', '', code)"
   ]
  },
  {
   "cell_type": "code",
   "execution_count": 15,
   "metadata": {
    "scrolled": true
   },
   "outputs": [],
   "source": [
    "def get_methods(source_text):\n",
    "    results = list(SIGNATURE.scanString(source_text))\n",
    "    methods = []\n",
    "    labels = []\n",
    "    for i in range(len(results) - 1):\n",
    "        signature = results[i][0][1]\n",
    "        vulnerable = 'bad' in signature\n",
    "        method = rem_comm(source_text[results[i][1] : results[i+1][1]])\n",
    "        methods.append(method)\n",
    "        labels.append(vulnerable)\n",
    "    return methods, labels"
   ]
  },
  {
   "cell_type": "code",
   "execution_count": 16,
   "metadata": {},
   "outputs": [
    {
     "name": "stdout",
     "output_type": "stream",
     "text": [
      "public void bad() throws Throwable\n",
      "    {\n",
      "        if (PRIVATE_STATIC_FINAL_FIVE == 5)\n",
      "        {\n",
      "            Random random = new Random();\n",
      "            MessageDigest hash = MessageDigest.getInstance(\"SHA-512\");\n",
      "            \n",
      "            hash.update((Integer.toString(random.nextInt())).getBytes(\"UTF-8\"));\n",
      "            byte[] hashValue = hash.digest(\"hash me\".getBytes(\"UTF-8\"));\n",
      "            IO.writeLine(IO.toHex(hashValue));\n",
      "        }\n",
      "    }\n",
      "\n",
      "    \n",
      "    \n",
      "True\n"
     ]
    }
   ],
   "source": [
    "methods, labels = get_methods(one)\n",
    "print(methods[0])\n",
    "print(labels[0])"
   ]
  },
  {
   "cell_type": "code",
   "execution_count": 17,
   "metadata": {},
   "outputs": [
    {
     "name": "stdout",
     "output_type": "stream",
     "text": [
      "private void good1() throws Throwable\n",
      "    {\n",
      "        if (PRIVATE_STATIC_FINAL_FIVE != 5)\n",
      "        {\n",
      "            \n",
      "            IO.writeLine(\"Benign, fixed string\");\n",
      "        }\n",
      "        else\n",
      "        {\n",
      "\n",
      "            SecureRandom secureRandom = new SecureRandom();\n",
      "\n",
      "            MessageDigest hash = MessageDigest.getInstance(\"SHA-512\");\n",
      "            \n",
      "            SecureRandom prng = SecureRandom.getInstance(\"SHA1PRNG\");\n",
      "            hash.update(prng.generateSeed(32));\n",
      "            byte[] hashValue = hash.digest(\"hash me\".getBytes(\"UTF-8\"));\n",
      "\n",
      "            IO.writeLine(IO.toHex(hashValue));\n",
      "\n",
      "        }\n",
      "    }\n",
      "\n",
      "    \n",
      "    \n"
     ]
    }
   ],
   "source": [
    "upto = one[1580: 2346]\n",
    "print(rem_comm(upto))"
   ]
  },
  {
   "cell_type": "code",
   "execution_count": 18,
   "metadata": {},
   "outputs": [],
   "source": [
    "JULIET = '/home/r/Downloads/Java/src/testcases/'"
   ]
  },
  {
   "cell_type": "code",
   "execution_count": 19,
   "metadata": {},
   "outputs": [],
   "source": [
    "from glob import glob"
   ]
  },
  {
   "cell_type": "code",
   "execution_count": 20,
   "metadata": {},
   "outputs": [],
   "source": [
    "JGLOB = JULIET + '/*/CWE*.java'"
   ]
  },
  {
   "cell_type": "code",
   "execution_count": 21,
   "metadata": {},
   "outputs": [],
   "source": [
    "def read_all_from_glob(expression):\n",
    "    testcases = []\n",
    "    for name in glob(expression):\n",
    "        with open(name, 'r') as testcase:\n",
    "            testcases.append(testcase.read())\n",
    "    return testcases"
   ]
  },
  {
   "cell_type": "code",
   "execution_count": 23,
   "metadata": {
    "scrolled": true
   },
   "outputs": [
    {
     "name": "stdout",
     "output_type": "stream",
     "text": [
      "CPU times: user 312 ms, sys: 95.3 ms, total: 407 ms\n",
      "Wall time: 408 ms\n"
     ]
    }
   ],
   "source": [
    "%%time\n",
    "all_files = read_all_from_glob(JGLOB)"
   ]
  },
  {
   "cell_type": "code",
   "execution_count": 24,
   "metadata": {},
   "outputs": [
    {
     "data": {
      "text/plain": [
       "11164"
      ]
     },
     "execution_count": 24,
     "metadata": {},
     "output_type": "execute_result"
    }
   ],
   "source": [
    "len(all_files)"
   ]
  },
  {
   "cell_type": "code",
   "execution_count": 27,
   "metadata": {},
   "outputs": [
    {
     "data": {
      "text/plain": [
       "['/* TEMPLATE GENERATED TESTCASE FILE\\nFilename: CWE759_Unsalted_One_Way_Hash__basic_15.java\\nLabel Definition File: CWE759_Unsalted_One_Way_Hash__basic.label.xml\\nTemplate File: point-flaw-15.tmpl.java\\n*/\\n/*\\n* @description\\n* CWE: 759 Use of one-way hash with no salt\\n* Sinks:\\n*    GoodSink: use a sufficiently random salt\\n*    BadSink : SHA512 with no salt\\n* Flow Variant: 15 Control flow: switch(7)\\n*\\n* */\\n\\npackage testcases.CWE759_Unsalted_One_Way_Hash;\\n\\nimport testcasesupport.*;\\n\\nimport java.security.MessageDigest;\\nimport java.security.SecureRandom;\\n\\npublic class CWE759_Unsalted_One_Way_Hash__basic_15 extends AbstractTestCase\\n{\\n    public void bad() throws Throwable\\n    {\\n        switch (7)\\n        {\\n        case 7:\\n            MessageDigest hash = MessageDigest.getInstance(\"SHA-512\");\\n            /* FLAW: SHA512 with no salt */\\n            byte[] hashValue = hash.digest(\"hash me\".getBytes(\"UTF-8\"));\\n            IO.writeLine(IO.toHex(hashValue));\\n            break;\\n        default:\\n            /* INCIDENTAL: CWE 561 Dead Code, the code below will never run */\\n            IO.writeLine(\"Benign, fixed string\");\\n            break;\\n        }\\n    }\\n\\n    /* good1() change the switch to switch(8) */\\n    private void good1() throws Throwable\\n    {\\n        switch (8)\\n        {\\n        case 7:\\n            /* INCIDENTAL: CWE 561 Dead Code, the code below will never run */\\n            IO.writeLine(\"Benign, fixed string\");\\n            break;\\n        default:\\n            MessageDigest hash = MessageDigest.getInstance(\"SHA-512\");\\n            /* FIX: Use a sufficiently random salt */\\n            SecureRandom prng = SecureRandom.getInstance(\"SHA1PRNG\");\\n            hash.update(prng.generateSeed(32));\\n            byte[] hashValue = hash.digest(\"hash me\".getBytes(\"UTF-8\"));\\n            IO.writeLine(IO.toHex(hashValue));\\n            break;\\n        }\\n    }\\n\\n    /* good2() reverses the blocks in the switch  */\\n    private void good2() throws Throwable\\n    {\\n        switch (7)\\n        {\\n        case 7:\\n            MessageDigest hash = MessageDigest.getInstance(\"SHA-512\");\\n            /* FIX: Use a sufficiently random salt */\\n            SecureRandom prng = SecureRandom.getInstance(\"SHA1PRNG\");\\n            hash.update(prng.generateSeed(32));\\n            byte[] hashValue = hash.digest(\"hash me\".getBytes(\"UTF-8\"));\\n            IO.writeLine(IO.toHex(hashValue));\\n            break;\\n        default:\\n            /* INCIDENTAL: CWE 561 Dead Code, the code below will never run */\\n            IO.writeLine(\"Benign, fixed string\");\\n            break;\\n        }\\n    }\\n\\n    public void good() throws Throwable\\n    {\\n        good1();\\n        good2();\\n    }\\n\\n    /* Below is the main(). It is only used when building this testcase on\\n     * its own for testing or for building a binary to use in testing binary\\n     * analysis tools. It is not used when compiling all the testcases as one\\n     * application, which is how source code analysis tools are tested.\\n     */\\n    public static void main(String[] args) throws ClassNotFoundException,\\n           InstantiationException, IllegalAccessException\\n    {\\n        mainFromParent(args);\\n    }\\n}\\n',\n",
       " '/* TEMPLATE GENERATED TESTCASE FILE\\nFilename: CWE759_Unsalted_One_Way_Hash__basic_03.java\\nLabel Definition File: CWE759_Unsalted_One_Way_Hash__basic.label.xml\\nTemplate File: point-flaw-03.tmpl.java\\n*/\\n/*\\n* @description\\n* CWE: 759 Use of one-way hash with no salt\\n* Sinks:\\n*    GoodSink: use a sufficiently random salt\\n*    BadSink : SHA512 with no salt\\n* Flow Variant: 03 Control flow: if(5==5) and if(5!=5)\\n*\\n* */\\n\\npackage testcases.CWE759_Unsalted_One_Way_Hash;\\n\\nimport testcasesupport.*;\\n\\nimport java.security.MessageDigest;\\nimport java.security.SecureRandom;\\n\\npublic class CWE759_Unsalted_One_Way_Hash__basic_03 extends AbstractTestCase\\n{\\n    public void bad() throws Throwable\\n    {\\n        if (5 == 5)\\n        {\\n            MessageDigest hash = MessageDigest.getInstance(\"SHA-512\");\\n            /* FLAW: SHA512 with no salt */\\n            byte[] hashValue = hash.digest(\"hash me\".getBytes(\"UTF-8\"));\\n            IO.writeLine(IO.toHex(hashValue));\\n        }\\n    }\\n\\n    /* good1() changes 5==5 to 5!=5 */\\n    private void good1() throws Throwable\\n    {\\n        if (5 != 5)\\n        {\\n            /* INCIDENTAL: CWE 561 Dead Code, the code below will never run */\\n            IO.writeLine(\"Benign, fixed string\");\\n        }\\n        else\\n        {\\n\\n            MessageDigest hash = MessageDigest.getInstance(\"SHA-512\");\\n\\n            /* FIX: Use a sufficiently random salt */\\n            SecureRandom prng = SecureRandom.getInstance(\"SHA1PRNG\");\\n            hash.update(prng.generateSeed(32));\\n            byte[] hashValue = hash.digest(\"hash me\".getBytes(\"UTF-8\"));\\n\\n            IO.writeLine(IO.toHex(hashValue));\\n\\n        }\\n    }\\n\\n    /* good2() reverses the bodies in the if statement */\\n    private void good2() throws Throwable\\n    {\\n        if (5 == 5)\\n        {\\n            MessageDigest hash = MessageDigest.getInstance(\"SHA-512\");\\n            /* FIX: Use a sufficiently random salt */\\n            SecureRandom prng = SecureRandom.getInstance(\"SHA1PRNG\");\\n            hash.update(prng.generateSeed(32));\\n            byte[] hashValue = hash.digest(\"hash me\".getBytes(\"UTF-8\"));\\n            IO.writeLine(IO.toHex(hashValue));\\n        }\\n    }\\n\\n    public void good() throws Throwable\\n    {\\n        good1();\\n        good2();\\n    }\\n\\n    /* Below is the main(). It is only used when building this testcase on\\n     * its own for testing or for building a binary to use in testing binary\\n     * analysis tools. It is not used when compiling all the testcases as one\\n     * application, which is how source code analysis tools are tested.\\n     */\\n    public static void main(String[] args) throws ClassNotFoundException,\\n           InstantiationException, IllegalAccessException\\n    {\\n        mainFromParent(args);\\n    }\\n}\\n',\n",
       " '/* TEMPLATE GENERATED TESTCASE FILE\\nFilename: CWE759_Unsalted_One_Way_Hash__basic_01.java\\nLabel Definition File: CWE759_Unsalted_One_Way_Hash__basic.label.xml\\nTemplate File: point-flaw-01.tmpl.java\\n*/\\n/*\\n* @description\\n* CWE: 759 Use of one-way hash with no salt\\n* Sinks:\\n*    GoodSink: use a sufficiently random salt\\n*    BadSink : SHA512 with no salt\\n* Flow Variant: 01 Baseline\\n*\\n* */\\n\\npackage testcases.CWE759_Unsalted_One_Way_Hash;\\n\\nimport testcasesupport.*;\\n\\nimport java.security.MessageDigest;\\nimport java.security.SecureRandom;\\n\\npublic class CWE759_Unsalted_One_Way_Hash__basic_01 extends AbstractTestCase\\n{\\n    public void bad() throws Throwable\\n    {\\n\\n        MessageDigest hash = MessageDigest.getInstance(\"SHA-512\");\\n\\n        /* FLAW: SHA512 with no salt */\\n        byte[] hashValue = hash.digest(\"hash me\".getBytes(\"UTF-8\"));\\n\\n        IO.writeLine(IO.toHex(hashValue));\\n\\n    }\\n\\n    public void good() throws Throwable\\n    {\\n        good1();\\n    }\\n\\n    private void good1() throws Throwable\\n    {\\n\\n        MessageDigest hash = MessageDigest.getInstance(\"SHA-512\");\\n\\n        /* FIX: Use a sufficiently random salt */\\n        SecureRandom prng = SecureRandom.getInstance(\"SHA1PRNG\");\\n        hash.update(prng.generateSeed(32));\\n        byte[] hashValue = hash.digest(\"hash me\".getBytes(\"UTF-8\"));\\n\\n        IO.writeLine(IO.toHex(hashValue));\\n\\n    }\\n\\n    /* Below is the main(). It is only used when building this testcase on\\n     * its own for testing or for building a binary to use in testing binary\\n     * analysis tools. It is not used when compiling all the testcases as one\\n     * application, which is how source code analysis tools are tested.\\n     */\\n    public static void main(String[] args) throws ClassNotFoundException,\\n           InstantiationException, IllegalAccessException\\n    {\\n        mainFromParent(args);\\n    }\\n}\\n\\n']"
      ]
     },
     "execution_count": 27,
     "metadata": {},
     "output_type": "execute_result"
    }
   ],
   "source": [
    "all_files[:3]"
   ]
  },
  {
   "cell_type": "code",
   "execution_count": 28,
   "metadata": {},
   "outputs": [],
   "source": [
    "def get_all_methods(all_files):\n",
    "    all_methods = []\n",
    "    all_labels  = []\n",
    "    for testcase in all_files:\n",
    "        methods, labels = get_methods(testcase)\n",
    "        all_methods += methods\n",
    "        all_labels  += labels\n",
    "    return all_methods, all_labels"
   ]
  },
  {
   "cell_type": "code",
   "execution_count": 29,
   "metadata": {},
   "outputs": [
    {
     "name": "stdout",
     "output_type": "stream",
     "text": [
      "CPU times: user 1min 38s, sys: 51.8 ms, total: 1min 38s\n",
      "Wall time: 1min 38s\n"
     ]
    }
   ],
   "source": [
    "%%time\n",
    "\n",
    "all_methods, all_labels = get_all_methods(all_files)"
   ]
  },
  {
   "cell_type": "code",
   "execution_count": 30,
   "metadata": {},
   "outputs": [
    {
     "name": "stdout",
     "output_type": "stream",
     "text": [
      "------\n",
      "public void bad() throws Throwable\n",
      "    {\n",
      "        switch (7)\n",
      "        {\n",
      "        case 7:\n",
      "            MessageDigest hash = MessageDigest.getInstance(\"SHA-512\");\n",
      "            \n",
      "            byte[] hashValue = hash.digest(\"hash me\".getBytes(\"UTF-8\"));\n",
      "            IO.writeLine(IO.toHex(hashValue));\n",
      "            break;\n",
      "        default:\n",
      "            \n",
      "            IO.writeLine(\"Benign, fixed string\");\n",
      "            break;\n",
      "        }\n",
      "    }\n",
      "\n",
      "    \n",
      "    \n",
      "------\n",
      "------\n",
      "private void good1() throws Throwable\n",
      "    {\n",
      "        switch (8)\n",
      "        {\n",
      "        case 7:\n",
      "            \n",
      "            IO.writeLine(\"Benign, fixed string\");\n",
      "            break;\n",
      "        default:\n",
      "            MessageDigest hash = MessageDigest.getInstance(\"SHA-512\");\n",
      "            \n",
      "            SecureRandom prng = SecureRandom.getInstance(\"SHA1PRNG\");\n",
      "            hash.update(prng.generateSeed(32));\n",
      "            byte[] hashValue = hash.digest(\"hash me\".getBytes(\"UTF-8\"));\n",
      "            IO.writeLine(IO.toHex(hashValue));\n",
      "            break;\n",
      "        }\n",
      "    }\n",
      "\n",
      "    \n",
      "    \n",
      "------\n",
      "------\n",
      "private void good2() throws Throwable\n",
      "    {\n",
      "        switch (7)\n",
      "        {\n",
      "        case 7:\n",
      "            MessageDigest hash = MessageDigest.getInstance(\"SHA-512\");\n",
      "            \n",
      "            SecureRandom prng = SecureRandom.getInstance(\"SHA1PRNG\");\n",
      "            hash.update(prng.generateSeed(32));\n",
      "            byte[] hashValue = hash.digest(\"hash me\".getBytes(\"UTF-8\"));\n",
      "            IO.writeLine(IO.toHex(hashValue));\n",
      "            break;\n",
      "        default:\n",
      "            \n",
      "            IO.writeLine(\"Benign, fixed string\");\n",
      "            break;\n",
      "        }\n",
      "    }\n",
      "\n",
      "    \n",
      "------\n"
     ]
    }
   ],
   "source": [
    "for meth in all_methods[:3]:\n",
    "    print('------')\n",
    "    print(meth)\n",
    "    print('------')"
   ]
  },
  {
   "cell_type": "code",
   "execution_count": 31,
   "metadata": {},
   "outputs": [
    {
     "name": "stdout",
     "output_type": "stream",
     "text": [
      "public void bad() throws Throwable\n",
      "    {\n",
      "        switch (7)\n",
      "        {\n",
      "        case 7:\n",
      "            MessageDigest hash = MessageDigest.getInstance(\"SHA-512\");\n",
      "            \n",
      "            byte[] hashValue = hash.digest(\"hash me\".getBytes(\"UTF-8\"));\n",
      "            IO.writeLine(IO.toHex(hashValue));\n",
      "            break;\n",
      "        default:\n",
      "            \n",
      "            IO.writeLine(\"Benign, fixed string\");\n",
      "            break;\n",
      "        }\n",
      "    }\n",
      "\n",
      "    \n",
      "    \n",
      "True\n"
     ]
    }
   ],
   "source": [
    "print(all_methods[0])\n",
    "print(all_labels[0])\n",
    "first100methods = all_methods[:100]"
   ]
  },
  {
   "cell_type": "code",
   "execution_count": 32,
   "metadata": {},
   "outputs": [
    {
     "name": "stderr",
     "output_type": "stream",
     "text": [
      "Using TensorFlow backend.\n"
     ]
    }
   ],
   "source": [
    "from keras.preprocessing.text import Tokenizer"
   ]
  },
  {
   "cell_type": "code",
   "execution_count": 33,
   "metadata": {},
   "outputs": [],
   "source": [
    "NUM_WORDS = 1000\n",
    "keras_tokenizer = Tokenizer(NUM_WORDS,\n",
    "                            filters='\\t\\n',\n",
    "                            lower=True,\n",
    "                            split=' ',\n",
    "                            char_level=False)"
   ]
  },
  {
   "cell_type": "code",
   "execution_count": null,
   "metadata": {},
   "outputs": [],
   "source": [
    "?Tokenizer"
   ]
  },
  {
   "cell_type": "code",
   "execution_count": 34,
   "metadata": {},
   "outputs": [
    {
     "name": "stdout",
     "output_type": "stream",
     "text": [
      "CPU times: user 1.65 s, sys: 24 ms, total: 1.68 s\n",
      "Wall time: 1.68 s\n"
     ]
    }
   ],
   "source": [
    "%%time\n",
    "keras_tokenizer.fit_on_texts(all_methods)"
   ]
  },
  {
   "cell_type": "code",
   "execution_count": 61,
   "metadata": {
    "scrolled": true
   },
   "outputs": [
    {
     "name": "stdout",
     "output_type": "stream",
     "text": [
      "OrderedDict([('public', 15676), ('void', 25995), ('bad()', 5125), ('throws', 26778), ('throwable', 26746), ('{', 186876), ('switch', 1279), ('(7)', 405), ('case', 1415), ('7:', 555), ('messagedigest', 658), ('hash', 96), ('=', 127781), ('messagedigest.getinstance(\"sha-512\");', 326), ('byte[]', 1250), ('hashvalue', 240), ('hash.digest(\"hash', 96), ('me\".getbytes(\"utf-8\"));', 96), ('io.writeline(io.tohex(hashvalue));', 240), ('break;', 3770), ('default:', 1253), ('io.writeline(\"benign,', 2402), ('fixed', 2402), ('string\");', 2402), ('}', 186580), ('private', 13009), ('good1()', 1222), ('(8)', 150), ('securerandom', 410), ('prng', 62), ('securerandom.getinstance(\"sha1prng\");', 62), ('hash.update(prng.generateseed(32));', 62), ('good2()', 951), ('if', 50029), ('(5', 607), ('==', 2844), ('5)', 3499), ('!=', 29933), ('else', 14227), ('good()', 2074), ('good1();', 111), ('(io.staticreturnstrueorfalse())', 404), ('(', 3476), ('privatetrue)', 822), ('privatefalse)', 307), ('(private_static_fina\n"
     ]
    }
   ],
   "source": [
    "print(str(keras_tokenizer.word_counts)[:1000])"
   ]
  },
  {
   "cell_type": "code",
   "execution_count": 36,
   "metadata": {},
   "outputs": [
    {
     "data": {
      "text/plain": [
       "31105"
      ]
     },
     "execution_count": 36,
     "metadata": {},
     "output_type": "execute_result"
    }
   ],
   "source": [
    "keras_tokenizer.document_count"
   ]
  },
  {
   "cell_type": "code",
   "execution_count": 65,
   "metadata": {},
   "outputs": [
    {
     "name": "stdout",
     "output_type": "stream",
     "text": [
      "{'{': 1, '}': 2, '=': 3, 'if': 4, 'data': 5, 'catch': 6, 'try': 7, 'null;': 8, 'io.logger.log(level.warning,': 9, 'string': 10, '!=': 11, 'new': 12, '\"error': 13, 'null)': 14, 'the': 15, 'throws': 16,\n"
     ]
    }
   ],
   "source": [
    "print(str(keras_tokenizer.word_index)[:200])#['{' : 'string']"
   ]
  },
  {
   "cell_type": "code",
   "execution_count": 66,
   "metadata": {},
   "outputs": [
    {
     "name": "stdout",
     "output_type": "stream",
     "text": [
      "CPU times: user 1.34 s, sys: 8.02 ms, total: 1.35 s\n",
      "Wall time: 1.35 s\n"
     ]
    }
   ],
   "source": [
    "%%time\n",
    "sequences = keras_tokenizer.texts_to_sequences(all_methods)"
   ]
  },
  {
   "cell_type": "code",
   "execution_count": 69,
   "metadata": {},
   "outputs": [
    {
     "name": "stdout",
     "output_type": "stream",
     "text": [
      "[24, 18, 69, 16, 17, 1, 230, 510, 1, 213, 446, 381, 845, 3, 534, 238, 567, 3, 846, 847, 568, 80, 237, 122, 123, 124, 80, 2, 2]\n"
     ]
    }
   ],
   "source": [
    "print(sequences[0])"
   ]
  },
  {
   "cell_type": "code",
   "execution_count": 70,
   "metadata": {},
   "outputs": [],
   "source": [
    "lengths = [len(s) for s in sequences]"
   ]
  },
  {
   "cell_type": "code",
   "execution_count": 71,
   "metadata": {},
   "outputs": [],
   "source": [
    "import numpy as np\n",
    "import pandas as pd"
   ]
  },
  {
   "cell_type": "code",
   "execution_count": 72,
   "metadata": {},
   "outputs": [],
   "source": [
    "lenspd = pd.DataFrame(lengths)"
   ]
  },
  {
   "cell_type": "code",
   "execution_count": 73,
   "metadata": {},
   "outputs": [
    {
     "data": {
      "text/plain": [
       "count    31105.000000\n",
       "mean        68.165022\n",
       "std         66.613902\n",
       "min          1.000000\n",
       "25%         13.000000\n",
       "50%         40.000000\n",
       "75%        112.000000\n",
       "max        551.000000\n",
       "Name: 0, dtype: float64"
      ]
     },
     "execution_count": 73,
     "metadata": {},
     "output_type": "execute_result"
    }
   ],
   "source": [
    "lenspd[0].describe()"
   ]
  },
  {
   "cell_type": "code",
   "execution_count": 75,
   "metadata": {},
   "outputs": [],
   "source": [
    "from keras.preprocessing.sequence import pad_sequences"
   ]
  },
  {
   "cell_type": "code",
   "execution_count": 76,
   "metadata": {},
   "outputs": [],
   "source": [
    "PAD_SIZE = 40\n",
    "padded_seqs = pad_sequences(sequences,\n",
    "                            maxlen=PAD_SIZE,\n",
    "                            padding='post')"
   ]
  },
  {
   "cell_type": "code",
   "execution_count": 77,
   "metadata": {},
   "outputs": [
    {
     "data": {
      "text/plain": [
       "29"
      ]
     },
     "execution_count": 77,
     "metadata": {},
     "output_type": "execute_result"
    }
   ],
   "source": [
    "len(sequences[0])"
   ]
  },
  {
   "cell_type": "code",
   "execution_count": 79,
   "metadata": {},
   "outputs": [
    {
     "data": {
      "text/plain": [
       "40"
      ]
     },
     "execution_count": 79,
     "metadata": {},
     "output_type": "execute_result"
    }
   ],
   "source": [
    "len(padded_seqs[0])"
   ]
  },
  {
   "cell_type": "code",
   "execution_count": 80,
   "metadata": {},
   "outputs": [
    {
     "data": {
      "text/plain": [
       "array([ 24,  18,  69,  16,  17,   1, 230, 510,   1, 213, 446, 381, 845,\n",
       "         3, 534, 238, 567,   3, 846, 847, 568,  80, 237, 122, 123, 124,\n",
       "        80,   2,   2,   0,   0,   0,   0,   0,   0,   0,   0,   0,   0,\n",
       "         0], dtype=int32)"
      ]
     },
     "execution_count": 80,
     "metadata": {},
     "output_type": "execute_result"
    }
   ],
   "source": [
    "padded_seqs[0]"
   ]
  },
  {
   "cell_type": "code",
   "execution_count": 81,
   "metadata": {},
   "outputs": [],
   "source": [
    "from keras.models import Sequential\n",
    "from keras.layers import Dense\n",
    "from keras.layers import Flatten\n",
    "from keras.layers.embeddings import Embedding"
   ]
  },
  {
   "cell_type": "code",
   "execution_count": 82,
   "metadata": {},
   "outputs": [
    {
     "name": "stderr",
     "output_type": "stream",
     "text": [
      "WARNING: Logging before flag parsing goes to stderr.\n",
      "W0930 14:20:51.878893 140692704020288 deprecation_wrapper.py:119] From /usr/local/lib/python3.7/dist-packages/keras/backend/tensorflow_backend.py:74: The name tf.get_default_graph is deprecated. Please use tf.compat.v1.get_default_graph instead.\n",
      "\n",
      "W0930 14:20:51.895741 140692704020288 deprecation_wrapper.py:119] From /usr/local/lib/python3.7/dist-packages/keras/backend/tensorflow_backend.py:517: The name tf.placeholder is deprecated. Please use tf.compat.v1.placeholder instead.\n",
      "\n",
      "W0930 14:20:51.899592 140692704020288 deprecation_wrapper.py:119] From /usr/local/lib/python3.7/dist-packages/keras/backend/tensorflow_backend.py:4138: The name tf.random_uniform is deprecated. Please use tf.random.uniform instead.\n",
      "\n",
      "W0930 14:20:51.935948 140692704020288 deprecation_wrapper.py:119] From /usr/local/lib/python3.7/dist-packages/keras/optimizers.py:790: The name tf.train.Optimizer is deprecated. Please use tf.compat.v1.train.Optimizer instead.\n",
      "\n",
      "W0930 14:20:51.959682 140692704020288 deprecation_wrapper.py:119] From /usr/local/lib/python3.7/dist-packages/keras/backend/tensorflow_backend.py:3376: The name tf.log is deprecated. Please use tf.math.log instead.\n",
      "\n",
      "W0930 14:20:51.965175 140692704020288 deprecation.py:323] From /usr/local/lib/python3.7/dist-packages/tensorflow/python/ops/nn_impl.py:180: add_dispatch_support.<locals>.wrapper (from tensorflow.python.ops.array_ops) is deprecated and will be removed in a future version.\n",
      "Instructions for updating:\n",
      "Use tf.where in 2.0, which has the same broadcast rule as np.where\n"
     ]
    },
    {
     "name": "stdout",
     "output_type": "stream",
     "text": [
      "_________________________________________________________________\n",
      "Layer (type)                 Output Shape              Param #   \n",
      "=================================================================\n",
      "embedding_1 (Embedding)      (None, 40, 100)           100000    \n",
      "_________________________________________________________________\n",
      "flatten_1 (Flatten)          (None, 4000)              0         \n",
      "_________________________________________________________________\n",
      "dense_1 (Dense)              (None, 1)                 4001      \n",
      "=================================================================\n",
      "Total params: 104,001\n",
      "Trainable params: 104,001\n",
      "Non-trainable params: 0\n",
      "_________________________________________________________________\n"
     ]
    }
   ],
   "source": [
    "MODEL = Sequential()\n",
    "MODEL.add(Embedding(NUM_WORDS,            #input dimension\n",
    "                    100,                  #output dimension\n",
    "                    input_length=PAD_SIZE #input length. != input_dim???\n",
    "                   ))\n",
    "MODEL.add(Flatten())\n",
    "MODEL.add(Dense(1, activation='sigmoid'))\n",
    "MODEL.compile(optimizer='adam',\n",
    "              loss='binary_crossentropy',\n",
    "              metrics=['acc'])\n",
    "MODEL.summary()"
   ]
  },
  {
   "cell_type": "code",
   "execution_count": null,
   "metadata": {},
   "outputs": [],
   "source": [
    "?Embedding"
   ]
  },
  {
   "cell_type": "code",
   "execution_count": 83,
   "metadata": {},
   "outputs": [],
   "source": [
    "from sklearn.model_selection import train_test_split"
   ]
  },
  {
   "cell_type": "code",
   "execution_count": 84,
   "metadata": {},
   "outputs": [],
   "source": [
    "?train_test_split"
   ]
  },
  {
   "cell_type": "code",
   "execution_count": 85,
   "metadata": {},
   "outputs": [],
   "source": [
    "X_train, X_test, y_train, y_test =\\\n",
    "train_test_split(padded_seqs, all_labels,\n",
    "                 test_size = 0.2,\n",
    "                 random_state=0)"
   ]
  },
  {
   "cell_type": "code",
   "execution_count": 86,
   "metadata": {},
   "outputs": [
    {
     "name": "stderr",
     "output_type": "stream",
     "text": [
      "W0930 14:21:05.011180 140692704020288 deprecation_wrapper.py:119] From /usr/local/lib/python3.7/dist-packages/keras/backend/tensorflow_backend.py:986: The name tf.assign_add is deprecated. Please use tf.compat.v1.assign_add instead.\n",
      "\n"
     ]
    },
    {
     "name": "stdout",
     "output_type": "stream",
     "text": [
      "Train on 19907 samples, validate on 4977 samples\n",
      "Epoch 1/20\n",
      "19907/19907 [==============================] - 2s 82us/step - loss: 0.3124 - acc: 0.8351 - val_loss: 0.2460 - val_acc: 0.8640\n",
      "Epoch 2/20\n",
      "19907/19907 [==============================] - 1s 70us/step - loss: 0.2370 - acc: 0.8644 - val_loss: 0.2408 - val_acc: 0.8712\n",
      "Epoch 3/20\n",
      "19907/19907 [==============================] - 1s 69us/step - loss: 0.2273 - acc: 0.8665 - val_loss: 0.2315 - val_acc: 0.8656\n",
      "Epoch 4/20\n",
      "19907/19907 [==============================] - 1s 73us/step - loss: 0.2225 - acc: 0.8678 - val_loss: 0.2274 - val_acc: 0.8680\n",
      "Epoch 5/20\n",
      "19907/19907 [==============================] - 1s 75us/step - loss: 0.2205 - acc: 0.8668 - val_loss: 0.2337 - val_acc: 0.8714\n",
      "Epoch 6/20\n",
      "19907/19907 [==============================] - 1s 70us/step - loss: 0.2190 - acc: 0.8669 - val_loss: 0.2279 - val_acc: 0.8714\n",
      "Epoch 7/20\n",
      "19907/19907 [==============================] - 1s 73us/step - loss: 0.2166 - acc: 0.8693 - val_loss: 0.2245 - val_acc: 0.8698\n",
      "Epoch 8/20\n",
      "19907/19907 [==============================] - 1s 74us/step - loss: 0.2159 - acc: 0.8697 - val_loss: 0.2274 - val_acc: 0.8688\n",
      "Epoch 9/20\n",
      "19907/19907 [==============================] - 1s 73us/step - loss: 0.2137 - acc: 0.8708 - val_loss: 0.2275 - val_acc: 0.8684\n",
      "Epoch 10/20\n",
      "19907/19907 [==============================] - 2s 78us/step - loss: 0.2135 - acc: 0.8697 - val_loss: 0.2283 - val_acc: 0.8602\n",
      "Epoch 11/20\n",
      "19907/19907 [==============================] - 2s 76us/step - loss: 0.2125 - acc: 0.8709 - val_loss: 0.2261 - val_acc: 0.8700\n",
      "Epoch 12/20\n",
      "19907/19907 [==============================] - 2s 83us/step - loss: 0.2135 - acc: 0.8708 - val_loss: 0.2247 - val_acc: 0.8742\n",
      "Epoch 13/20\n",
      "19907/19907 [==============================] - 1s 73us/step - loss: 0.2120 - acc: 0.8719 - val_loss: 0.2285 - val_acc: 0.8728\n",
      "Epoch 14/20\n",
      "19907/19907 [==============================] - 1s 74us/step - loss: 0.2119 - acc: 0.8703 - val_loss: 0.2250 - val_acc: 0.8688\n",
      "Epoch 15/20\n",
      "19907/19907 [==============================] - 1s 74us/step - loss: 0.2114 - acc: 0.8716 - val_loss: 0.2260 - val_acc: 0.8676\n",
      "Epoch 16/20\n",
      "19907/19907 [==============================] - 1s 72us/step - loss: 0.2103 - acc: 0.8748 - val_loss: 0.2336 - val_acc: 0.8473\n",
      "Epoch 17/20\n",
      "19907/19907 [==============================] - 1s 75us/step - loss: 0.2105 - acc: 0.8722 - val_loss: 0.2232 - val_acc: 0.8680\n",
      "Epoch 18/20\n",
      "19907/19907 [==============================] - 1s 71us/step - loss: 0.2101 - acc: 0.8715 - val_loss: 0.2290 - val_acc: 0.8537\n",
      "Epoch 19/20\n",
      "19907/19907 [==============================] - 1s 72us/step - loss: 0.2098 - acc: 0.8731 - val_loss: 0.2236 - val_acc: 0.8726\n",
      "Epoch 20/20\n",
      "19907/19907 [==============================] - 1s 72us/step - loss: 0.2097 - acc: 0.8721 - val_loss: 0.2249 - val_acc: 0.8698\n",
      "CPU times: user 52.9 s, sys: 3.02 s, total: 55.9 s\n",
      "Wall time: 29.8 s\n"
     ]
    },
    {
     "data": {
      "text/plain": [
       "<keras.callbacks.History at 0x7ff5521aa1d0>"
      ]
     },
     "execution_count": 86,
     "metadata": {},
     "output_type": "execute_result"
    }
   ],
   "source": [
    "%%time\n",
    "MODEL.fit(X_train, y_train,\n",
    "          epochs = 20,\n",
    "          validation_split = 0.2)"
   ]
  },
  {
   "cell_type": "code",
   "execution_count": 87,
   "metadata": {},
   "outputs": [
    {
     "name": "stdout",
     "output_type": "stream",
     "text": [
      "6221/6221 [==============================] - 0s 20us/step\n"
     ]
    }
   ],
   "source": [
    "loss, acc = MODEL.evaluate(X_test, y_test, verbose=1)"
   ]
  },
  {
   "cell_type": "code",
   "execution_count": 90,
   "metadata": {},
   "outputs": [
    {
     "data": {
      "text/plain": [
       "0.8624015431794261"
      ]
     },
     "execution_count": 90,
     "metadata": {},
     "output_type": "execute_result"
    }
   ],
   "source": [
    "acc"
   ]
  },
  {
   "cell_type": "code",
   "execution_count": 91,
   "metadata": {},
   "outputs": [
    {
     "data": {
      "text/plain": [
       "array([179,   2,   6, 169, 182,   1, 185, 186, 187, 118, 188, 189, 190,\n",
       "        92,   3, 132,   2,   4, 479,  79, 477, 128,  92, 451,  85,   1,\n",
       "       126, 135, 191, 121,  77, 108, 141,   1, 139, 184,   2,   2,   2,\n",
       "         2], dtype=int32)"
      ]
     },
     "execution_count": 91,
     "metadata": {},
     "output_type": "execute_result"
    }
   ],
   "source": [
    "X_test[0]"
   ]
  },
  {
   "cell_type": "code",
   "execution_count": 92,
   "metadata": {},
   "outputs": [],
   "source": [
    "sec_rand = 'good good SecureRandom secureRandom = new SecureRandom();\\nIO.writeLine(\"\" + secureRandom.nextDouble());'\n",
    "bad_rand = 'IO.writeLine(\"\" + Math.random());'\n",
    "naive_tests = [sec_rand, bad_rand]"
   ]
  },
  {
   "cell_type": "code",
   "execution_count": 93,
   "metadata": {},
   "outputs": [],
   "source": [
    "#keras_tokenizer.fit_on_texts(naive_tests)\n",
    "naive_seqs = keras_tokenizer.texts_to_sequences(naive_tests)"
   ]
  },
  {
   "cell_type": "code",
   "execution_count": 94,
   "metadata": {},
   "outputs": [
    {
     "data": {
      "text/plain": [
       "[[507, 507, 3, 12, 680, 242, 23], [242, 23]]"
      ]
     },
     "execution_count": 94,
     "metadata": {},
     "output_type": "execute_result"
    }
   ],
   "source": [
    "naive_seqs"
   ]
  },
  {
   "cell_type": "code",
   "execution_count": 95,
   "metadata": {},
   "outputs": [],
   "source": [
    "padded_naive = pad_sequences(naive_seqs,\n",
    "                             maxlen=PAD_SIZE,\n",
    "                             padding='post')"
   ]
  },
  {
   "cell_type": "code",
   "execution_count": 96,
   "metadata": {},
   "outputs": [
    {
     "data": {
      "text/plain": [
       "array([[507, 507,   3,  12, 680, 242,  23,   0,   0,   0,   0,   0,   0,\n",
       "          0,   0,   0,   0,   0,   0,   0,   0,   0,   0,   0,   0,   0,\n",
       "          0,   0,   0,   0,   0,   0,   0,   0,   0,   0,   0,   0,   0,\n",
       "          0],\n",
       "       [242,  23,   0,   0,   0,   0,   0,   0,   0,   0,   0,   0,   0,\n",
       "          0,   0,   0,   0,   0,   0,   0,   0,   0,   0,   0,   0,   0,\n",
       "          0,   0,   0,   0,   0,   0,   0,   0,   0,   0,   0,   0,   0,\n",
       "          0]], dtype=int32)"
      ]
     },
     "execution_count": 96,
     "metadata": {},
     "output_type": "execute_result"
    }
   ],
   "source": [
    "padded_naive"
   ]
  },
  {
   "cell_type": "code",
   "execution_count": 97,
   "metadata": {},
   "outputs": [
    {
     "data": {
      "text/plain": [
       "array([[0.00837098],\n",
       "       [0.02838966]], dtype=float32)"
      ]
     },
     "execution_count": 97,
     "metadata": {},
     "output_type": "execute_result"
    }
   ],
   "source": [
    "MODEL.predict(padded_naive)"
   ]
  },
  {
   "cell_type": "code",
   "execution_count": 98,
   "metadata": {},
   "outputs": [
    {
     "data": {
      "text/plain": [
       "array([2.6106834e-05, 3.9422607e-01, 2.4902821e-04, ..., 3.9422607e-01,\n",
       "       9.9996674e-01, 2.8568105e-04], dtype=float32)"
      ]
     },
     "execution_count": 98,
     "metadata": {},
     "output_type": "execute_result"
    }
   ],
   "source": [
    "predicts = MODEL.predict(X_test)\n",
    "predicts.flatten()"
   ]
  },
  {
   "cell_type": "code",
   "execution_count": 101,
   "metadata": {},
   "outputs": [
    {
     "name": "stdout",
     "output_type": "stream",
     "text": [
      "[False, True, False, False, False, True, False, False, False, True, False, True, False, False, False\n"
     ]
    }
   ],
   "source": [
    "print(str(y_test)[:100])"
   ]
  },
  {
   "cell_type": "code",
   "execution_count": 102,
   "metadata": {},
   "outputs": [
    {
     "data": {
      "text/html": [
       "<div>\n",
       "<style scoped>\n",
       "    .dataframe tbody tr th:only-of-type {\n",
       "        vertical-align: middle;\n",
       "    }\n",
       "\n",
       "    .dataframe tbody tr th {\n",
       "        vertical-align: top;\n",
       "    }\n",
       "\n",
       "    .dataframe thead th {\n",
       "        text-align: right;\n",
       "    }\n",
       "</style>\n",
       "<table border=\"1\" class=\"dataframe\">\n",
       "  <thead>\n",
       "    <tr style=\"text-align: right;\">\n",
       "      <th></th>\n",
       "      <th>0</th>\n",
       "      <th>1</th>\n",
       "      <th>2</th>\n",
       "      <th>3</th>\n",
       "      <th>4</th>\n",
       "      <th>5</th>\n",
       "      <th>6</th>\n",
       "      <th>7</th>\n",
       "      <th>8</th>\n",
       "      <th>9</th>\n",
       "      <th>...</th>\n",
       "      <th>6211</th>\n",
       "      <th>6212</th>\n",
       "      <th>6213</th>\n",
       "      <th>6214</th>\n",
       "      <th>6215</th>\n",
       "      <th>6216</th>\n",
       "      <th>6217</th>\n",
       "      <th>6218</th>\n",
       "      <th>6219</th>\n",
       "      <th>6220</th>\n",
       "    </tr>\n",
       "  </thead>\n",
       "  <tbody>\n",
       "    <tr>\n",
       "      <th>0</th>\n",
       "      <td>2.61068e-05</td>\n",
       "      <td>0.394226</td>\n",
       "      <td>0.000249028</td>\n",
       "      <td>2.46763e-05</td>\n",
       "      <td>4.58956e-06</td>\n",
       "      <td>0.394226</td>\n",
       "      <td>0.0520131</td>\n",
       "      <td>0.000917643</td>\n",
       "      <td>8.51452e-05</td>\n",
       "      <td>0.999983</td>\n",
       "      <td>...</td>\n",
       "      <td>0.300954</td>\n",
       "      <td>0.000123084</td>\n",
       "      <td>0.00105029</td>\n",
       "      <td>0.99987</td>\n",
       "      <td>0.430299</td>\n",
       "      <td>0.33364</td>\n",
       "      <td>0.466879</td>\n",
       "      <td>0.394226</td>\n",
       "      <td>0.999967</td>\n",
       "      <td>0.000285681</td>\n",
       "    </tr>\n",
       "    <tr>\n",
       "      <th>1</th>\n",
       "      <td>False</td>\n",
       "      <td>True</td>\n",
       "      <td>False</td>\n",
       "      <td>False</td>\n",
       "      <td>False</td>\n",
       "      <td>True</td>\n",
       "      <td>False</td>\n",
       "      <td>False</td>\n",
       "      <td>False</td>\n",
       "      <td>True</td>\n",
       "      <td>...</td>\n",
       "      <td>False</td>\n",
       "      <td>False</td>\n",
       "      <td>False</td>\n",
       "      <td>True</td>\n",
       "      <td>False</td>\n",
       "      <td>False</td>\n",
       "      <td>True</td>\n",
       "      <td>True</td>\n",
       "      <td>True</td>\n",
       "      <td>False</td>\n",
       "    </tr>\n",
       "  </tbody>\n",
       "</table>\n",
       "<p>2 rows × 6221 columns</p>\n",
       "</div>"
      ],
      "text/plain": [
       "          0         1            2            3            4         5     \\\n",
       "0  2.61068e-05  0.394226  0.000249028  2.46763e-05  4.58956e-06  0.394226   \n",
       "1        False      True        False        False        False      True   \n",
       "\n",
       "        6            7            8         9        ...           6211  \\\n",
       "0  0.0520131  0.000917643  8.51452e-05  0.999983     ...       0.300954   \n",
       "1      False        False        False      True     ...          False   \n",
       "\n",
       "          6212        6213     6214      6215     6216      6217      6218  \\\n",
       "0  0.000123084  0.00105029  0.99987  0.430299  0.33364  0.466879  0.394226   \n",
       "1        False       False     True     False    False      True      True   \n",
       "\n",
       "       6219         6220  \n",
       "0  0.999967  0.000285681  \n",
       "1      True        False  \n",
       "\n",
       "[2 rows x 6221 columns]"
      ]
     },
     "execution_count": 102,
     "metadata": {},
     "output_type": "execute_result"
    }
   ],
   "source": [
    "pd.DataFrame([predicts.flatten(), y_test])"
   ]
  },
  {
   "cell_type": "code",
   "execution_count": null,
   "metadata": {},
   "outputs": [],
   "source": []
  }
 ],
 "metadata": {
  "kernelspec": {
   "display_name": "Python 3",
   "language": "python",
   "name": "python3"
  },
  "language_info": {
   "codemirror_mode": {
    "name": "ipython",
    "version": 3
   },
   "file_extension": ".py",
   "mimetype": "text/x-python",
   "name": "python",
   "nbconvert_exporter": "python",
   "pygments_lexer": "ipython3",
   "version": "3.7.4"
  }
 },
 "nbformat": 4,
 "nbformat_minor": 2
}
