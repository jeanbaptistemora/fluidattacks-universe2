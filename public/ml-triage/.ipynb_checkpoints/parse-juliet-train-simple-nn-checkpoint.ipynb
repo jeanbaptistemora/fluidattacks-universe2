{
 "cells": [
  {
   "cell_type": "code",
   "execution_count": 1,
   "metadata": {},
   "outputs": [],
   "source": [
    "ONEDIR = '/home/r/Downloads/Java/src/testcases/CWE760_Predictable_Salt_One_Way_Hash/'"
   ]
  },
  {
   "cell_type": "code",
   "execution_count": 2,
   "metadata": {
    "scrolled": true
   },
   "outputs": [],
   "source": [
    "import os\n",
    "\n",
    "def read_testcases_from_dir(directory):\n",
    "    testcases = []\n",
    "    for name in os.listdir(directory):\n",
    "        if name.startswith('CWE'):\n",
    "            full = os.path.join(directory, name)\n",
    "            with open(full, 'r') as testcase:\n",
    "                testcases.append(testcase.read())\n",
    "    return testcases"
   ]
  },
  {
   "cell_type": "code",
   "execution_count": 3,
   "metadata": {},
   "outputs": [],
   "source": [
    "testcases = read_testcases_from_dir(ONEDIR)"
   ]
  },
  {
   "cell_type": "code",
   "execution_count": 4,
   "metadata": {},
   "outputs": [
    {
     "name": "stdout",
     "output_type": "stream",
     "text": [
      "/* TEMPLATE GENERATED TESTCASE FILE\n",
      "Filename: CWE760_Predictable_Salt_One_Way_Hash__basic_06.java\n",
      "Label Definition File: CWE760_Predictable_Salt_One_Way_Hash__basic.label.xml\n",
      "Template File: point-flaw-06.tmpl.java\n",
      "*/\n",
      "/*\n",
      "* @description\n",
      "* CWE: 760 Use of one-way hash with a predictable salt\n",
      "* Sinks:\n",
      "*    GoodSink: SHA512 with a sufficiently random salt\n",
      "*    BadSink : SHA512 with a predictable salt\n",
      "* Flow Variant: 06 Control flow: if(PRIVATE_STATIC_FINAL_FIVE==5) and if(PRIVATE_STATIC_FINAL_FIVE!=5)\n",
      "*\n",
      "* */\n",
      "\n",
      "package testcases.CWE760_Predictable_Salt_One_Way_Hash;\n",
      "\n",
      "import testcasesupport.*;\n",
      "\n",
      "import java.security.MessageDigest;\n",
      "import java.security.SecureRandom;\n",
      "import java.util.Random;\n",
      "\n",
      "public class CWE760_Predictable_Salt_One_Way_Hash__basic_06 extends AbstractTestCase\n",
      "{\n",
      "    /* The variable below is declared \"final\", so a tool should be able\n",
      "     * to identify that reads of this will always give its initialized\n",
      "     * value.\n",
      "     */\n",
      "    private static final int PRIVATE_STATIC_FINAL_FIVE = 5;\n",
      "\n",
      "    public void bad() throws Throwable\n",
      "    {\n",
      "        if (PRIVATE_STATIC_FINAL_FIVE == 5)\n",
      "        {\n",
      "            Random random = new Random();\n",
      "            MessageDigest hash = MessageDigest.getInstance(\"SHA-512\");\n",
      "            /* FLAW: SHA512 with a predictable salt */\n",
      "            hash.update((Integer.toString(random.nextInt())).getBytes(\"UTF-8\"));\n",
      "            byte[] hashValue = hash.digest(\"hash me\".getBytes(\"UTF-8\"));\n",
      "            IO.writeLine(IO.toHex(hashValue));\n",
      "        }\n",
      "    }\n",
      "\n",
      "    /* good1() changes PRIVATE_STATIC_FINAL_FIVE==5 to PRIVATE_STATIC_FINAL_FIVE!=5 */\n",
      "    private void good1() throws Throwable\n",
      "    {\n",
      "        if (PRIVATE_STATIC_FINAL_FIVE != 5)\n",
      "        {\n",
      "            /* INCIDENTAL: CWE 561 Dead Code, the code below will never run */\n",
      "            IO.writeLine(\"Benign, fixed string\");\n",
      "        }\n",
      "        else\n",
      "        {\n",
      "\n",
      "            SecureRandom secureRandom = new SecureRandom();\n",
      "\n",
      "            MessageDigest hash = MessageDigest.getInstance(\"SHA-512\");\n",
      "            /* FIX: Use a sufficiently random salt */\n",
      "            SecureRandom prng = SecureRandom.getInstance(\"SHA1PRNG\");\n",
      "            hash.update(prng.generateSeed(32));\n",
      "            byte[] hashValue = hash.digest(\"hash me\".getBytes(\"UTF-8\"));\n",
      "\n",
      "            IO.writeLine(IO.toHex(hashValue));\n",
      "\n",
      "        }\n",
      "    }\n",
      "\n",
      "    /* good2() reverses the bodies in the if statement */\n",
      "    private void good2() throws Throwable\n",
      "    {\n",
      "        if (PRIVATE_STATIC_FINAL_FIVE == 5)\n",
      "        {\n",
      "            SecureRandom secureRandom = new SecureRandom();\n",
      "            MessageDigest hash = MessageDigest.getInstance(\"SHA-512\");\n",
      "            /* FIX: Use a sufficiently random salt */\n",
      "            SecureRandom prng = SecureRandom.getInstance(\"SHA1PRNG\");\n",
      "            hash.update(prng.generateSeed(32));\n",
      "            byte[] hashValue = hash.digest(\"hash me\".getBytes(\"UTF-8\"));\n",
      "            IO.writeLine(IO.toHex(hashValue));\n",
      "        }\n",
      "    }\n",
      "\n",
      "    public void good() throws Throwable\n",
      "    {\n",
      "        good1();\n",
      "        good2();\n",
      "    }\n",
      "\n",
      "    /* Below is the main(). It is only used when building this testcase on\n",
      "     * its own for testing or for building a binary to use in testing binary\n",
      "     * analysis tools. It is not used when compiling all the testcases as one\n",
      "     * application, which is how source code analysis tools are tested.\n",
      "     */\n",
      "    public static void main(String[] args) throws ClassNotFoundException,\n",
      "           InstantiationException, IllegalAccessException\n",
      "    {\n",
      "        mainFromParent(args);\n",
      "    }\n",
      "}\n",
      "\n"
     ]
    }
   ],
   "source": [
    "print(testcases[0])"
   ]
  },
  {
   "cell_type": "code",
   "execution_count": 5,
   "metadata": {},
   "outputs": [],
   "source": [
    "part = '''public class CWE760_Predictable_Salt_One_Way_Hash__basic_16 extends AbstractTestCase\n",
    "{\n",
    "    public void bad() throws Throwable\n",
    "    {\n",
    "        while(true)\n",
    "        {\n",
    "            Random random = new Random();\n",
    "            MessageDigest hash = MessageDigest.getInstance(\"SHA-512\");\n",
    "            /* FLAW: SHA512 with a predictable salt */\n",
    "            hash.update((Integer.toString(random.nextInt())).getBytes(\"UTF-8\"));\n",
    "            byte[] hashValue = hash.digest(\"hash me\".getBytes(\"UTF-8\"));\n",
    "            IO.writeLine(IO.toHex(hashValue));\n",
    "            break;\n",
    "        }\n",
    "    }\n",
    "\n",
    "    /* good1() change the conditions on the while statements */\n",
    "    private void good1() throws Throwable'''"
   ]
  },
  {
   "cell_type": "code",
   "execution_count": 6,
   "metadata": {},
   "outputs": [
    {
     "data": {
      "text/plain": [
       "'public class CWE760_Predictable_Salt_One_Way_Hash__basic_16 extends AbstractTestCase\\n{\\n    public void bad() throws Throwable\\n    {\\n        while(true)\\n        {\\n            Random random = new Random();\\n            MessageDigest hash = MessageDigest.getInstance(\"SHA-512\");\\n            /* FLAW: SHA512 with a predictable salt */\\n            hash.update((Integer.toString(random.nextInt())).getBytes(\"UTF-8\"));\\n            byte[] hashValue = hash.digest(\"hash me\".getBytes(\"UTF-8\"));\\n            IO.writeLine(IO.toHex(hashValue));\\n            break;\\n        }\\n    }\\n\\n    /* good1() change the conditions on the while statements */\\n    private void good1() throws Throwable'"
      ]
     },
     "execution_count": 6,
     "metadata": {},
     "output_type": "execute_result"
    }
   ],
   "source": [
    "part"
   ]
  },
  {
   "cell_type": "code",
   "execution_count": 7,
   "metadata": {},
   "outputs": [
    {
     "name": "stdout",
     "output_type": "stream",
     "text": [
      "e void good1() throws Throwable\n",
      "    {\n",
      "        if (PRIVATE_STATIC_FINAL_FIVE != 5)\n",
      "        {\n",
      "            /* INCIDENTAL: CWE 561 Dead Code, the code below will never run */\n",
      "            IO.writeLine(\"Benign, fixed string\");\n",
      "        }\n"
     ]
    }
   ],
   "source": [
    "import re\n",
    "# re not enough\n",
    "print(re.findall('([private|public]\\ [^class].*?\\{.*?\\})', testcases[0], re.MULTILINE | re.DOTALL)[1])"
   ]
  },
  {
   "cell_type": "code",
   "execution_count": 8,
   "metadata": {},
   "outputs": [],
   "source": [
    "import javalang\n",
    "\n",
    "tree = javalang.parse.parse(\"package javalang.brewtab.com; class Test {}\")"
   ]
  },
  {
   "cell_type": "code",
   "execution_count": 9,
   "metadata": {},
   "outputs": [],
   "source": [
    "tree = javalang.parse.parse(testcases[0])"
   ]
  },
  {
   "cell_type": "code",
   "execution_count": null,
   "metadata": {
    "scrolled": true
   },
   "outputs": [],
   "source": [
    "#overkill and language-specific\n",
    "#for path, node in tree:\n",
    "#    print(path, node)"
   ]
  },
  {
   "cell_type": "code",
   "execution_count": 10,
   "metadata": {},
   "outputs": [],
   "source": [
    "one = testcases[0]"
   ]
  },
  {
   "cell_type": "code",
   "execution_count": 11,
   "metadata": {
    "scrolled": true
   },
   "outputs": [
    {
     "name": "stdout",
     "output_type": "stream",
     "text": [
      "/* TEMPLATE GENERATED TESTCASE FILE\n",
      "Filename: CWE760_Predictable_Salt_One_Way_Hash__basic_06.java\n",
      "Label Definition File: CWE760_Predictable_Salt_One_Way_Hash__basic.label.xml\n",
      "Template File: point-flaw-06.tmpl.java\n",
      "*/\n",
      "/*\n",
      "* @description\n",
      "* CWE: 760 Use of one-way hash with a predictable salt\n",
      "* Sinks:\n",
      "*    GoodSink: SHA512 with a sufficiently random salt\n",
      "*    BadSink : SHA512 with a predictable salt\n",
      "* Flow Variant: 06 Control flow: if(PRIVATE_STATIC_FINAL_FIVE==5) and if(PRIVATE_STATIC_FINAL_FIVE!=5)\n",
      "*\n",
      "* */\n",
      "\n",
      "package testcases.CWE760_Predictable_Salt_One_Way_Hash;\n",
      "\n",
      "import testcasesupport.*;\n",
      "\n",
      "import java.security.MessageDigest;\n",
      "import java.security.SecureRandom;\n",
      "import java.util.Random;\n",
      "\n",
      "public class CWE760_Predictable_Salt_One_Way_Hash__basic_06 extends AbstractTestCase\n",
      "{\n",
      "    /* The variable below is declared \"final\", so a tool should be able\n",
      "     * to identify that reads of this will always give its initialized\n",
      "     * value.\n",
      "     */\n",
      "    private static final int PRIVATE_STATIC_FINAL_FIVE = 5;\n",
      "\n",
      "    public void bad() throws Throwable\n",
      "    {\n",
      "        if (PRIVATE_STATIC_FINAL_FIVE == 5)\n",
      "        {\n",
      "            Random random = new Random();\n",
      "            MessageDigest hash = MessageDigest.getInstance(\"SHA-512\");\n",
      "            /* FLAW: SHA512 with a predictable salt */\n",
      "            hash.update((Integer.toString(random.nextInt())).getBytes(\"UTF-8\"));\n",
      "            byte[] hashValue = hash.digest(\"hash me\".getBytes(\"UTF-8\"));\n",
      "            IO.writeLine(IO.toHex(hashValue));\n",
      "        }\n",
      "    }\n",
      "\n",
      "    /* good1() changes PRIVATE_STATIC_FINAL_FIVE==5 to PRIVATE_STATIC_FINAL_FIVE!=5 */\n",
      "    private void good1() throws Throwable\n",
      "    {\n",
      "        if (PRIVATE_STATIC_FINAL_FIVE != 5)\n",
      "        {\n",
      "            /* INCIDENTAL: CWE 561 Dead Code, the code below will never run */\n",
      "            IO.writeLine(\"Benign, fixed string\");\n",
      "        }\n",
      "        else\n",
      "        {\n",
      "\n",
      "            SecureRandom secureRandom = new SecureRandom();\n",
      "\n",
      "            MessageDigest hash = MessageDigest.getInstance(\"SHA-512\");\n",
      "            /* FIX: Use a sufficiently random salt */\n",
      "            SecureRandom prng = SecureRandom.getInstance(\"SHA1PRNG\");\n",
      "            hash.update(prng.generateSeed(32));\n",
      "            byte[] hashValue = hash.digest(\"hash me\".getBytes(\"UTF-8\"));\n",
      "\n",
      "            IO.writeLine(IO.toHex(hashValue));\n",
      "\n",
      "        }\n",
      "    }\n",
      "\n",
      "    /* good2() reverses the bodies in the if statement */\n",
      "    private void good2() throws Throwable\n",
      "    {\n",
      "        if (PRIVATE_STATIC_FINAL_FIVE == 5)\n",
      "        {\n",
      "            SecureRandom secureRandom = new SecureRandom();\n",
      "            MessageDigest hash = MessageDigest.getInstance(\"SHA-512\");\n",
      "            /* FIX: Use a sufficiently random salt */\n",
      "            SecureRandom prng = SecureRandom.getInstance(\"SHA1PRNG\");\n",
      "            hash.update(prng.generateSeed(32));\n",
      "            byte[] hashValue = hash.digest(\"hash me\".getBytes(\"UTF-8\"));\n",
      "            IO.writeLine(IO.toHex(hashValue));\n",
      "        }\n",
      "    }\n",
      "\n",
      "    public void good() throws Throwable\n",
      "    {\n",
      "        good1();\n",
      "        good2();\n",
      "    }\n",
      "\n",
      "    /* Below is the main(). It is only used when building this testcase on\n",
      "     * its own for testing or for building a binary to use in testing binary\n",
      "     * analysis tools. It is not used when compiling all the testcases as one\n",
      "     * application, which is how source code analysis tools are tested.\n",
      "     */\n",
      "    public static void main(String[] args) throws ClassNotFoundException,\n",
      "           InstantiationException, IllegalAccessException\n",
      "    {\n",
      "        mainFromParent(args);\n",
      "    }\n",
      "}\n",
      "\n"
     ]
    }
   ],
   "source": [
    "print(one)"
   ]
  },
  {
   "cell_type": "code",
   "execution_count": 12,
   "metadata": {},
   "outputs": [],
   "source": [
    "from pyparsing import *"
   ]
  },
  {
   "cell_type": "code",
   "execution_count": 13,
   "metadata": {},
   "outputs": [],
   "source": [
    "SIGNATURE = (oneOf('private public')\n",
    "             + NotAny('class') \n",
    "             + Regex('.*').setResultsName('actual_signature')\n",
    "             + '{'# + Regex(r'.*', flags=re.M|re.DOTALL) + '}' + LineEnd()\n",
    "            )  "
   ]
  },
  {
   "cell_type": "code",
   "execution_count": 14,
   "metadata": {},
   "outputs": [],
   "source": [
    "def rem_comm(code):\n",
    "    return re.sub('\\/\\*.*\\*\\/', '', code)"
   ]
  },
  {
   "cell_type": "code",
   "execution_count": 15,
   "metadata": {
    "scrolled": true
   },
   "outputs": [],
   "source": [
    "def get_methods(source_text):\n",
    "    results = list(SIGNATURE.scanString(source_text))\n",
    "    methods = []\n",
    "    labels = []\n",
    "    for i in range(len(results) - 1):\n",
    "        signature = results[i][0][1]\n",
    "        vulnerable = 'bad' in signature\n",
    "        method = rem_comm(source_text[results[i][1] : results[i+1][1]])\n",
    "        methods.append(method)\n",
    "        labels.append(vulnerable)\n",
    "    return methods, labels"
   ]
  },
  {
   "cell_type": "code",
   "execution_count": 16,
   "metadata": {},
   "outputs": [
    {
     "name": "stdout",
     "output_type": "stream",
     "text": [
      "public void bad() throws Throwable\n",
      "    {\n",
      "        if (PRIVATE_STATIC_FINAL_FIVE == 5)\n",
      "        {\n",
      "            Random random = new Random();\n",
      "            MessageDigest hash = MessageDigest.getInstance(\"SHA-512\");\n",
      "            \n",
      "            hash.update((Integer.toString(random.nextInt())).getBytes(\"UTF-8\"));\n",
      "            byte[] hashValue = hash.digest(\"hash me\".getBytes(\"UTF-8\"));\n",
      "            IO.writeLine(IO.toHex(hashValue));\n",
      "        }\n",
      "    }\n",
      "\n",
      "    \n",
      "    \n",
      "True\n"
     ]
    }
   ],
   "source": [
    "methods, labels = get_methods(one)\n",
    "print(methods[0])\n",
    "print(labels[0])"
   ]
  },
  {
   "cell_type": "code",
   "execution_count": null,
   "metadata": {},
   "outputs": [],
   "source": [
    "upto = one[1580: 2346]\n",
    "print(rem_comm(upto))"
   ]
  },
  {
   "cell_type": "code",
   "execution_count": null,
   "metadata": {},
   "outputs": [],
   "source": [
    "JULIET = '/home/r/Downloads/Java/src/testcases/'"
   ]
  },
  {
   "cell_type": "code",
   "execution_count": null,
   "metadata": {},
   "outputs": [],
   "source": [
    "from glob import glob"
   ]
  },
  {
   "cell_type": "code",
   "execution_count": null,
   "metadata": {},
   "outputs": [],
   "source": [
    "JGLOB = JULIET + '/*/CWE*.java'"
   ]
  },
  {
   "cell_type": "code",
   "execution_count": null,
   "metadata": {},
   "outputs": [],
   "source": [
    "def read_all_from_glob(expression):\n",
    "    testcases = []\n",
    "    for name in glob(expression):\n",
    "        with open(name, 'r') as testcase:\n",
    "            testcases.append(testcase.read())\n",
    "    return testcases"
   ]
  },
  {
   "cell_type": "code",
   "execution_count": null,
   "metadata": {
    "scrolled": true
   },
   "outputs": [],
   "source": [
    "%%time\n",
    "all_files = read_all_from_glob(allfiles)"
   ]
  },
  {
   "cell_type": "code",
   "execution_count": null,
   "metadata": {},
   "outputs": [],
   "source": [
    "len(all_files)"
   ]
  },
  {
   "cell_type": "code",
   "execution_count": null,
   "metadata": {},
   "outputs": [],
   "source": [
    "all_files[:100]"
   ]
  },
  {
   "cell_type": "code",
   "execution_count": null,
   "metadata": {},
   "outputs": [],
   "source": [
    "def get_all_methods(all_files):\n",
    "    all_methods = []\n",
    "    all_labels  = []\n",
    "    for testcase in all_files:\n",
    "        methods, labels = get_methods(testcase)\n",
    "        all_methods += methods\n",
    "        all_labels  += labels\n",
    "    return all_methods, all_labels"
   ]
  },
  {
   "cell_type": "code",
   "execution_count": null,
   "metadata": {},
   "outputs": [],
   "source": [
    "%%time\n",
    "\n",
    "all_methods, all_labels = get_all_methods(all_files)"
   ]
  },
  {
   "cell_type": "code",
   "execution_count": null,
   "metadata": {},
   "outputs": [],
   "source": [
    "for meth in all_methods[:10]:\n",
    "    print('------')\n",
    "    print(meth)\n",
    "    print('------')"
   ]
  },
  {
   "cell_type": "code",
   "execution_count": null,
   "metadata": {},
   "outputs": [],
   "source": [
    "print(all_methods[110])\n",
    "print(all_labels[110])\n",
    "first100methods = all_methods[:100]"
   ]
  },
  {
   "cell_type": "code",
   "execution_count": null,
   "metadata": {},
   "outputs": [],
   "source": [
    "from keras.preprocessing.text import Tokenizer"
   ]
  },
  {
   "cell_type": "code",
   "execution_count": null,
   "metadata": {},
   "outputs": [],
   "source": [
    "NUM_WORDS = 1000\n",
    "keras_tokenizer = Tokenizer(NUM_WORDS,\n",
    "                            filters='\\t\\n',\n",
    "                            lower=True,\n",
    "                            split=' ',\n",
    "                            char_level=False)"
   ]
  },
  {
   "cell_type": "code",
   "execution_count": null,
   "metadata": {},
   "outputs": [],
   "source": [
    "?Tokenizer"
   ]
  },
  {
   "cell_type": "code",
   "execution_count": null,
   "metadata": {},
   "outputs": [],
   "source": [
    "%%time\n",
    "keras_tokenizer.fit_on_texts(all_methods)"
   ]
  },
  {
   "cell_type": "code",
   "execution_count": null,
   "metadata": {},
   "outputs": [],
   "source": [
    "keras_tokenizer.word_counts"
   ]
  },
  {
   "cell_type": "code",
   "execution_count": null,
   "metadata": {},
   "outputs": [],
   "source": [
    "keras_tokenizer.document_count"
   ]
  },
  {
   "cell_type": "code",
   "execution_count": null,
   "metadata": {},
   "outputs": [],
   "source": [
    "keras_tokenizer.word_index"
   ]
  },
  {
   "cell_type": "code",
   "execution_count": null,
   "metadata": {},
   "outputs": [],
   "source": [
    "%%time\n",
    "sequences = keras_tokenizer.texts_to_sequences(all_methods)"
   ]
  },
  {
   "cell_type": "code",
   "execution_count": null,
   "metadata": {},
   "outputs": [],
   "source": [
    "sequences[0]"
   ]
  },
  {
   "cell_type": "code",
   "execution_count": null,
   "metadata": {},
   "outputs": [],
   "source": [
    "lengths = [len(s) for s in sequences]"
   ]
  },
  {
   "cell_type": "code",
   "execution_count": null,
   "metadata": {},
   "outputs": [],
   "source": [
    "import numpy as np\n",
    "import pandas as pd"
   ]
  },
  {
   "cell_type": "code",
   "execution_count": null,
   "metadata": {},
   "outputs": [],
   "source": [
    "lenspd = pd.DataFrame(lengths)"
   ]
  },
  {
   "cell_type": "code",
   "execution_count": null,
   "metadata": {},
   "outputs": [],
   "source": [
    "lenspd[0].describe()"
   ]
  },
  {
   "cell_type": "code",
   "execution_count": null,
   "metadata": {},
   "outputs": [],
   "source": [
    "from keras.preprocessing.sequence import pad_sequences"
   ]
  },
  {
   "cell_type": "code",
   "execution_count": null,
   "metadata": {},
   "outputs": [],
   "source": [
    "PAD_SIZE = 40\n",
    "padded_seqs = pad_sequences(sequences,\n",
    "                            maxlen=PAD_SIZE,\n",
    "                            padding='post')"
   ]
  },
  {
   "cell_type": "code",
   "execution_count": null,
   "metadata": {},
   "outputs": [],
   "source": [
    "len(sequences[0])"
   ]
  },
  {
   "cell_type": "code",
   "execution_count": null,
   "metadata": {},
   "outputs": [],
   "source": [
    "padded_seqs[0]"
   ]
  },
  {
   "cell_type": "code",
   "execution_count": null,
   "metadata": {},
   "outputs": [],
   "source": [
    "from keras.models import Sequential\n",
    "from keras.layers import Dense\n",
    "from keras.layers import Flatten\n",
    "from keras.layers.embeddings import Embedding"
   ]
  },
  {
   "cell_type": "code",
   "execution_count": null,
   "metadata": {},
   "outputs": [],
   "source": [
    "MODEL = Sequential()\n",
    "MODEL.add(Embedding(NUM_WORDS,            #input dimension\n",
    "                    100,                  #output dimension\n",
    "                    input_length=PAD_SIZE #input length. != input_dim???\n",
    "                   ))\n",
    "MODEL.add(Flatten())\n",
    "MODEL.add(Dense(1, activation='sigmoid'))\n",
    "MODEL.compile(optimizer='adam',\n",
    "              loss='binary_crossentropy',\n",
    "              metrics=['acc'])\n",
    "MODEL.summary()"
   ]
  },
  {
   "cell_type": "code",
   "execution_count": null,
   "metadata": {},
   "outputs": [],
   "source": [
    "?Embedding"
   ]
  },
  {
   "cell_type": "code",
   "execution_count": null,
   "metadata": {},
   "outputs": [],
   "source": [
    "from sklearn.model_selection import train_test_split"
   ]
  },
  {
   "cell_type": "code",
   "execution_count": null,
   "metadata": {},
   "outputs": [],
   "source": [
    "?train_test_split"
   ]
  },
  {
   "cell_type": "code",
   "execution_count": null,
   "metadata": {},
   "outputs": [],
   "source": [
    "X_train, X_test, y_train, y_test =\\\n",
    "train_test_split(padded_seqs, all_labels,\n",
    "                 test_size = 0.2,\n",
    "                 random_state=0)"
   ]
  },
  {
   "cell_type": "code",
   "execution_count": null,
   "metadata": {},
   "outputs": [],
   "source": [
    "%%time\n",
    "MODEL.fit(X_train, y_train,\n",
    "          epochs = 20,\n",
    "          validation_split = 0.2)"
   ]
  },
  {
   "cell_type": "code",
   "execution_count": null,
   "metadata": {},
   "outputs": [],
   "source": [
    "loss, acc = MODEL.evaluate(X_test, y_test, verbose=1)"
   ]
  },
  {
   "cell_type": "code",
   "execution_count": null,
   "metadata": {},
   "outputs": [],
   "source": [
    "acc"
   ]
  },
  {
   "cell_type": "code",
   "execution_count": null,
   "metadata": {},
   "outputs": [],
   "source": [
    "X_test[0]"
   ]
  },
  {
   "cell_type": "code",
   "execution_count": null,
   "metadata": {},
   "outputs": [],
   "source": [
    "sec_rand = 'good good SecureRandom secureRandom = new SecureRandom();\\nIO.writeLine(\"\" + secureRandom.nextDouble());'\n",
    "bad_rand = 'IO.writeLine(\"\" + Math.random());'\n",
    "naive_tests = [sec_rand, bad_rand]"
   ]
  },
  {
   "cell_type": "code",
   "execution_count": null,
   "metadata": {},
   "outputs": [],
   "source": [
    "#keras_tokenizer.fit_on_texts(naive_tests)\n",
    "naive_seqs = keras_tokenizer.texts_to_sequences(naive_tests)"
   ]
  },
  {
   "cell_type": "code",
   "execution_count": null,
   "metadata": {},
   "outputs": [],
   "source": [
    "naive_seqs"
   ]
  },
  {
   "cell_type": "code",
   "execution_count": null,
   "metadata": {},
   "outputs": [],
   "source": [
    "padded_naive = pad_sequences(naive_seqs,\n",
    "                             maxlen=PAD_SIZE,\n",
    "                             padding='post')"
   ]
  },
  {
   "cell_type": "code",
   "execution_count": null,
   "metadata": {},
   "outputs": [],
   "source": [
    "padded_naive"
   ]
  },
  {
   "cell_type": "code",
   "execution_count": null,
   "metadata": {},
   "outputs": [],
   "source": [
    "MODEL.predict(padded_naive)"
   ]
  },
  {
   "cell_type": "code",
   "execution_count": null,
   "metadata": {},
   "outputs": [],
   "source": [
    "predicts = MODEL.predict(X_test)\n",
    "predicts.flatten()"
   ]
  },
  {
   "cell_type": "code",
   "execution_count": null,
   "metadata": {},
   "outputs": [],
   "source": [
    "y_test"
   ]
  },
  {
   "cell_type": "code",
   "execution_count": null,
   "metadata": {},
   "outputs": [],
   "source": [
    "pd.DataFrame([predicts.flatten(), y_test])"
   ]
  },
  {
   "cell_type": "code",
   "execution_count": null,
   "metadata": {},
   "outputs": [],
   "source": []
  }
 ],
 "metadata": {
  "kernelspec": {
   "display_name": "Python 3",
   "language": "python",
   "name": "python3"
  },
  "language_info": {
   "codemirror_mode": {
    "name": "ipython",
    "version": 3
   },
   "file_extension": ".py",
   "mimetype": "text/x-python",
   "name": "python",
   "nbconvert_exporter": "python",
   "pygments_lexer": "ipython3",
   "version": "3.7.4"
  }
 },
 "nbformat": 4,
 "nbformat_minor": 2
}
